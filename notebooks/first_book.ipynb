{
 "cells": [
  {
   "cell_type": "markdown",
   "metadata": {},
   "source": [
    "OK"
   ]
  },
  {
   "cell_type": "code",
   "execution_count": null,
   "metadata": {},
   "outputs": [],
   "source": []
  },
  {
   "cell_type": "code",
   "execution_count": null,
   "metadata": {},
   "outputs": [],
   "source": []
  },
  {
   "cell_type": "code",
   "execution_count": null,
   "metadata": {},
   "outputs": [],
   "source": []
  },
  {
   "cell_type": "code",
   "execution_count": null,
   "metadata": {},
   "outputs": [],
   "source": []
  },
  {
   "cell_type": "code",
   "execution_count": null,
   "metadata": {},
   "outputs": [
    {
     "name": "stdout",
     "output_type": "stream",
     "text": [
      "WARNING: none_check returned True (LOCUST_input_type=beam_deposition, ID=fully-combined beam deposition): read_data requires data_format, blank input initialised \n",
      "\n",
      "birth_157418_ec_0_combined_spiral_100k_noresp_0.dat\n",
      "reading beam deposition from SPIRAL full orbit format\n",
      "finished reading beam deposition from SPIRAL full orbit format\n",
      "birth_157418_ec_0_combined_spiral_100k_noresp_1.dat\n",
      "reading beam deposition from SPIRAL full orbit format\n",
      "finished reading beam deposition from SPIRAL full orbit format\n",
      "birth_157418_ec_0_combined_spiral_100k_noresp_2.dat\n",
      "reading beam deposition from SPIRAL full orbit format\n",
      "finished reading beam deposition from SPIRAL full orbit format\n",
      "birth_157418_ec_0_combined_spiral_100k_noresp_3.dat\n",
      "reading beam deposition from SPIRAL full orbit format\n",
      "finished reading beam deposition from SPIRAL full orbit format\n",
      "birth_157418_ec_0_combined_spiral_100k_noresp_4.dat\n",
      "reading beam deposition from SPIRAL full orbit format\n",
      "finished reading beam deposition from SPIRAL full orbit format\n",
      "birth_157418_ec_1_combined_spiral_100k_noresp_0.dat\n",
      "reading beam deposition from SPIRAL full orbit format\n",
      "finished reading beam deposition from SPIRAL full orbit format\n",
      "birth_157418_ec_1_combined_spiral_100k_noresp_1.dat\n",
      "reading beam deposition from SPIRAL full orbit format\n",
      "finished reading beam deposition from SPIRAL full orbit format\n",
      "birth_157418_ec_1_combined_spiral_100k_noresp_2.dat\n",
      "reading beam deposition from SPIRAL full orbit format\n",
      "finished reading beam deposition from SPIRAL full orbit format\n",
      "birth_157418_ec_1_combined_spiral_100k_noresp_3.dat\n",
      "reading beam deposition from SPIRAL full orbit format\n",
      "finished reading beam deposition from SPIRAL full orbit format\n",
      "birth_157418_ec_1_combined_spiral_100k_noresp_4.dat\n",
      "reading beam deposition from SPIRAL full orbit format\n",
      "finished reading beam deposition from SPIRAL full orbit format\n",
      "birth_157418_ec_2_combined_spiral_100k_noresp_0.dat\n",
      "reading beam deposition from SPIRAL full orbit format\n",
      "finished reading beam deposition from SPIRAL full orbit format\n",
      "birth_157418_ec_2_combined_spiral_100k_noresp_1.dat\n",
      "reading beam deposition from SPIRAL full orbit format\n",
      "finished reading beam deposition from SPIRAL full orbit format\n",
      "birth_157418_ec_2_combined_spiral_100k_noresp_2.dat\n",
      "reading beam deposition from SPIRAL full orbit format\n",
      "finished reading beam deposition from SPIRAL full orbit format\n",
      "birth_157418_ec_2_combined_spiral_100k_noresp_3.dat\n",
      "reading beam deposition from SPIRAL full orbit format\n",
      "finished reading beam deposition from SPIRAL full orbit format\n",
      "birth_157418_ec_2_combined_spiral_100k_noresp_4.dat\n",
      "reading beam deposition from SPIRAL full orbit format\n",
      "finished reading beam deposition from SPIRAL full orbit format\n",
      "0.5393539618245266\n",
      "0.27622473800881303\n",
      "0.18442130016666036\n",
      "500000\n",
      "256070\n",
      "170965\n",
      "WARNING: run_check() returned false - insufficient data for LOCUST run (ID=fully-combined beam deposition)\n",
      "writing full orbit beam deposition to LOCUST\n"
     ]
    }
   ],
   "source": [
    "%run ../analysis_scripts/157418/3D_beam_depo_combine.py"
   ]
  },
  {
   "cell_type": "code",
   "execution_count": null,
   "metadata": {},
   "outputs": [],
   "source": []
  }
 ],
 "metadata": {
  "kernelspec": {
   "display_name": "Python 3",
   "language": "python",
   "name": "python3"
  },
  "language_info": {
   "codemirror_mode": {
    "name": "ipython",
    "version": 3
   },
   "file_extension": ".py",
   "mimetype": "text/x-python",
   "name": "python",
   "nbconvert_exporter": "python",
   "pygments_lexer": "ipython3",
   "version": "3.7.2"
  }
 },
 "nbformat": 4,
 "nbformat_minor": 2
}
